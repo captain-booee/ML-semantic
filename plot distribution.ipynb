{
  "nbformat": 4,
  "nbformat_minor": 0,
  "metadata": {
    "colab": {
      "name": "baseline.ipynb",
      "provenance": []
    },
    "kernelspec": {
      "name": "python3",
      "display_name": "Python 3"
    },
    "language_info": {
      "name": "python"
    }
  },
  "cells": [
    {
      "cell_type": "code",
      "metadata": {
        "id": "3D6706-3Fu5W"
      },
      "source": [
        "import matplotlib.pyplot as plt\n",
        "import numpy as np\n",
        "\n",
        "y = []\n",
        "with open(\"drive/MyDrive/ml data/sets/data/train_glove.csv\", \"r\") as lines:\n",
        "  for i in lines.readlines()[1:]:\n",
        "    train_features = i.strip().split(\",\",2)\n",
        "    y.append(train_features[0])\n",
        "\n",
        "\n",
        "negCount,posCount,neuCount,Counter = 0,0,0,0\n",
        "for i in y:\n",
        "  Counter = Counter + 1\n",
        "  if i==\"neg\":\n",
        "    negCount = negCount + 1\n",
        "  elif i==\"pos\":\n",
        "    posCount = posCount + 1\n",
        "  elif i==\"neu\":\n",
        "    neuCount = neuCount + 1\n",
        "labels = ['neg', 'pos', 'neu']\n",
        "neg = [negCount]\n",
        "pos = [posCount]\n",
        "neu = [neuCount]\n",
        "\n",
        "x = np.arange(len(labels))  # the label locations\n",
        "width = 1  # the width of the bars\n",
        "\n",
        "fig, ax = plt.subplots()\n",
        "rects1 = ax.bar(0, neg, width, label='neg')\n",
        "rects2 = ax.bar(1, pos, width, label='pos')\n",
        "rects3 = ax.bar(2, neu, width, label='neu')\n",
        "\n",
        "# Add some text for labels, title and custom x-axis tick labels, etc.\n",
        "#ax.set_ylabel('Count')\n",
        "#ax.set_title('classes')\n",
        "ax.set_xticks(x)\n",
        "ax.set_xticklabels(labels)\n",
        "ax.legend()\n",
        "\n",
        "\n",
        "fig.tight_layout()\n",
        "\n",
        "plt.show()"
      ],
      "execution_count": null,
      "outputs": []
    }
  ]
}