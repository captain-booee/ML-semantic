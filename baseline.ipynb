{
  "nbformat": 4,
  "nbformat_minor": 0,
  "metadata": {
    "colab": {
      "name": "baseline.ipynb",
      "provenance": []
    },
    "kernelspec": {
      "name": "python3",
      "display_name": "Python 3"
    },
    "language_info": {
      "name": "python"
    }
  },
  "cells": [
    {
      "cell_type": "code",
      "metadata": {
        "id": "3D6706-3Fu5W"
      },
      "source": [
        "import ast\n",
        "from sklearn.dummy import DummyClassifier\n",
        "\n",
        "x_train = []\n",
        "y_train = []\n",
        "\n",
        "with open(\"drive/MyDrive/ml data/sets/data/train_count.csv\", \"r\") as lines:\n",
        "  for i in lines.readlines()[1:]:\n",
        "    train_features = i.strip().split(\",\",2)\n",
        "    y_train.append(train_features[0])\n",
        "    x_train.append(dict(ast.literal_eval(train_features[2].replace('\"',''))))\n",
        "\n",
        "x_dev = []\n",
        "y_dev = []\n",
        "\n",
        "with open(\"drive/MyDrive/ml data/sets/data/dev_count.csv\", \"r\") as lines:\n",
        "  for i in lines.readlines()[1:]:\n",
        "    dev_features = i.strip().split(\",\",2)\n",
        "    y_dev.append(dev_features[0])\n",
        "    x_dev.append(dict(ast.literal_eval(dev_features[2].replace('\"',''))))\n",
        "\n",
        "dummyScoreAVG = 0\n",
        "i= 0\n",
        "while i<100:\n",
        "  dclf = DummyClassifier(strategy = 'uniform')\n",
        "  dclf.fit(x_vectorized, y_train)\n",
        "  score = dclf.score(x_vectorized, y_train)\n",
        "  dummyScoreAVG = dummyScoreAVG + score\n",
        "  i = i+1\n",
        "ScoreAVG = dummyScoreAVG/100\n",
        "print(ScoreAVG)"
      ],
      "execution_count": null,
      "outputs": []
    }
  ]
}